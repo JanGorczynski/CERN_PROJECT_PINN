{
 "cells": [
  {
   "cell_type": "code",
   "execution_count": 1,
   "id": "7a5f24ca",
   "metadata": {},
   "outputs": [],
   "source": [
    "from processing import extract_data\n",
    "import pandas as pd"
   ]
  },
  {
   "cell_type": "code",
   "execution_count": 2,
   "id": "47a1ba9b",
   "metadata": {},
   "outputs": [],
   "source": [
    "sim1 = extract_data(\"Param_Export_Example.xlsx\")"
   ]
  },
  {
   "cell_type": "code",
   "execution_count": 3,
   "id": "984e59a6",
   "metadata": {},
   "outputs": [
    {
     "data": {
      "text/html": [
       "<div>\n",
       "<style scoped>\n",
       "    .dataframe tbody tr th:only-of-type {\n",
       "        vertical-align: middle;\n",
       "    }\n",
       "\n",
       "    .dataframe tbody tr th {\n",
       "        vertical-align: top;\n",
       "    }\n",
       "\n",
       "    .dataframe thead th {\n",
       "        text-align: right;\n",
       "    }\n",
       "</style>\n",
       "<table border=\"1\" class=\"dataframe\">\n",
       "  <thead>\n",
       "    <tr style=\"text-align: right;\">\n",
       "      <th></th>\n",
       "      <th>t</th>\n",
       "      <th>v</th>\n",
       "    </tr>\n",
       "  </thead>\n",
       "  <tbody>\n",
       "    <tr>\n",
       "      <th>0</th>\n",
       "      <td>0.0010</td>\n",
       "      <td>-4.552400e-06</td>\n",
       "    </tr>\n",
       "    <tr>\n",
       "      <th>1</th>\n",
       "      <td>0.0030</td>\n",
       "      <td>4.414100e-06</td>\n",
       "    </tr>\n",
       "    <tr>\n",
       "      <th>2</th>\n",
       "      <td>0.0050</td>\n",
       "      <td>-4.304400e-06</td>\n",
       "    </tr>\n",
       "    <tr>\n",
       "      <th>3</th>\n",
       "      <td>0.0070</td>\n",
       "      <td>4.057600e-06</td>\n",
       "    </tr>\n",
       "    <tr>\n",
       "      <th>4</th>\n",
       "      <td>0.0090</td>\n",
       "      <td>-3.448700e-06</td>\n",
       "    </tr>\n",
       "    <tr>\n",
       "      <th>...</th>\n",
       "      <td>...</td>\n",
       "      <td>...</td>\n",
       "    </tr>\n",
       "    <tr>\n",
       "      <th>1247</th>\n",
       "      <td>0.1732</td>\n",
       "      <td>3.307100e-06</td>\n",
       "    </tr>\n",
       "    <tr>\n",
       "      <th>1248</th>\n",
       "      <td>0.1733</td>\n",
       "      <td>4.530400e-07</td>\n",
       "    </tr>\n",
       "    <tr>\n",
       "      <th>1249</th>\n",
       "      <td>0.1734</td>\n",
       "      <td>1.195300e-06</td>\n",
       "    </tr>\n",
       "    <tr>\n",
       "      <th>1250</th>\n",
       "      <td>0.1735</td>\n",
       "      <td>-2.567100e-06</td>\n",
       "    </tr>\n",
       "    <tr>\n",
       "      <th>1251</th>\n",
       "      <td>0.1736</td>\n",
       "      <td>-2.673300e-06</td>\n",
       "    </tr>\n",
       "  </tbody>\n",
       "</table>\n",
       "<p>1252 rows × 2 columns</p>\n",
       "</div>"
      ],
      "text/plain": [
       "           t             v\n",
       "0     0.0010 -4.552400e-06\n",
       "1     0.0030  4.414100e-06\n",
       "2     0.0050 -4.304400e-06\n",
       "3     0.0070  4.057600e-06\n",
       "4     0.0090 -3.448700e-06\n",
       "...      ...           ...\n",
       "1247  0.1732  3.307100e-06\n",
       "1248  0.1733  4.530400e-07\n",
       "1249  0.1734  1.195300e-06\n",
       "1250  0.1735 -2.567100e-06\n",
       "1251  0.1736 -2.673300e-06\n",
       "\n",
       "[1252 rows x 2 columns]"
      ]
     },
     "execution_count": 3,
     "metadata": {},
     "output_type": "execute_result"
    }
   ],
   "source": [
    "sim1[\"data\"]"
   ]
  },
  {
   "cell_type": "code",
   "execution_count": 73,
   "id": "18181483",
   "metadata": {},
   "outputs": [
    {
     "data": {
      "text/html": [
       "<div>\n",
       "<style scoped>\n",
       "    .dataframe tbody tr th:only-of-type {\n",
       "        vertical-align: middle;\n",
       "    }\n",
       "\n",
       "    .dataframe tbody tr th {\n",
       "        vertical-align: top;\n",
       "    }\n",
       "\n",
       "    .dataframe thead th {\n",
       "        text-align: right;\n",
       "    }\n",
       "</style>\n",
       "<table border=\"1\" class=\"dataframe\">\n",
       "  <thead>\n",
       "    <tr style=\"text-align: right;\">\n",
       "      <th></th>\n",
       "      <th>E_SPRING</th>\n",
       "      <th>B_SPRING</th>\n",
       "      <th>B_COIL</th>\n",
       "      <th>I_MAX</th>\n",
       "      <th>T_PULSE</th>\n",
       "      <th>PRE_TENSION</th>\n",
       "      <th>SHIM</th>\n",
       "      <th>SR</th>\n",
       "    </tr>\n",
       "  </thead>\n",
       "  <tbody>\n",
       "    <tr>\n",
       "      <th>0</th>\n",
       "      <td>1</td>\n",
       "      <td>2</td>\n",
       "      <td>3</td>\n",
       "      <td>4</td>\n",
       "      <td>5</td>\n",
       "      <td>6</td>\n",
       "      <td>0</td>\n",
       "      <td>2</td>\n",
       "    </tr>\n",
       "  </tbody>\n",
       "</table>\n",
       "</div>"
      ],
      "text/plain": [
       "   E_SPRING  B_SPRING  B_COIL  I_MAX  T_PULSE  PRE_TENSION  SHIM  SR\n",
       "0         1         2       3      4        5            6     0   2"
      ]
     },
     "execution_count": 73,
     "metadata": {},
     "output_type": "execute_result"
    }
   ],
   "source": [
    "sim1[\"metadata\"]"
   ]
  },
  {
   "cell_type": "code",
   "execution_count": 79,
   "id": "43745cbd",
   "metadata": {},
   "outputs": [],
   "source": [
    "start = sim1[\"data\"].where(sim1[\"data\"][\"v\"]>0.001)[\"t\"].idxmin()\n",
    "data =  sim1[\"data\"].iloc[26:]\n",
    "data "
   ]
  },
  {
   "cell_type": "code",
   "execution_count": 26,
   "id": "a86cb585",
   "metadata": {},
   "outputs": [],
   "source": [
    "def cut_to_start(sim1):\n",
    "    start = sim1[\"data\"].where(sim1[\"data\"][\"v\"]>0.001)[\"t\"].idxmin()\n",
    "    data =  sim1[\"data\"].iloc[start:]\n",
    "    time_shifted = data['t'] -  data['t'].min()\n",
    "    data = pd.DataFrame([time_shifted,data['v']]).transpose()\n",
    "    return data "
   ]
  },
  {
   "cell_type": "code",
   "execution_count": 27,
   "id": "e5188cd5",
   "metadata": {},
   "outputs": [],
   "source": [
    "import matplotlib.pyplot as plt"
   ]
  },
  {
   "cell_type": "code",
   "execution_count": 28,
   "id": "2a08bb0b",
   "metadata": {},
   "outputs": [],
   "source": [
    "data = cut_to_start(sim1)"
   ]
  },
  {
   "cell_type": "code",
   "execution_count": 29,
   "id": "2bd1982e",
   "metadata": {},
   "outputs": [
    {
     "data": {
      "text/html": [
       "<div>\n",
       "<style scoped>\n",
       "    .dataframe tbody tr th:only-of-type {\n",
       "        vertical-align: middle;\n",
       "    }\n",
       "\n",
       "    .dataframe tbody tr th {\n",
       "        vertical-align: top;\n",
       "    }\n",
       "\n",
       "    .dataframe thead th {\n",
       "        text-align: right;\n",
       "    }\n",
       "</style>\n",
       "<table border=\"1\" class=\"dataframe\">\n",
       "  <thead>\n",
       "    <tr style=\"text-align: right;\">\n",
       "      <th></th>\n",
       "      <th>t</th>\n",
       "      <th>v</th>\n",
       "    </tr>\n",
       "  </thead>\n",
       "  <tbody>\n",
       "    <tr>\n",
       "      <th>26</th>\n",
       "      <td>0.0000</td>\n",
       "      <td>6.472700e-03</td>\n",
       "    </tr>\n",
       "    <tr>\n",
       "      <th>27</th>\n",
       "      <td>0.0001</td>\n",
       "      <td>3.471000e-03</td>\n",
       "    </tr>\n",
       "    <tr>\n",
       "      <th>28</th>\n",
       "      <td>0.0002</td>\n",
       "      <td>5.401900e-03</td>\n",
       "    </tr>\n",
       "    <tr>\n",
       "      <th>29</th>\n",
       "      <td>0.0003</td>\n",
       "      <td>3.827800e-03</td>\n",
       "    </tr>\n",
       "    <tr>\n",
       "      <th>30</th>\n",
       "      <td>0.0004</td>\n",
       "      <td>2.488400e-03</td>\n",
       "    </tr>\n",
       "    <tr>\n",
       "      <th>...</th>\n",
       "      <td>...</td>\n",
       "      <td>...</td>\n",
       "    </tr>\n",
       "    <tr>\n",
       "      <th>1247</th>\n",
       "      <td>0.1221</td>\n",
       "      <td>3.307100e-06</td>\n",
       "    </tr>\n",
       "    <tr>\n",
       "      <th>1248</th>\n",
       "      <td>0.1222</td>\n",
       "      <td>4.530400e-07</td>\n",
       "    </tr>\n",
       "    <tr>\n",
       "      <th>1249</th>\n",
       "      <td>0.1223</td>\n",
       "      <td>1.195300e-06</td>\n",
       "    </tr>\n",
       "    <tr>\n",
       "      <th>1250</th>\n",
       "      <td>0.1224</td>\n",
       "      <td>-2.567100e-06</td>\n",
       "    </tr>\n",
       "    <tr>\n",
       "      <th>1251</th>\n",
       "      <td>0.1225</td>\n",
       "      <td>-2.673300e-06</td>\n",
       "    </tr>\n",
       "  </tbody>\n",
       "</table>\n",
       "<p>1226 rows × 2 columns</p>\n",
       "</div>"
      ],
      "text/plain": [
       "           t             v\n",
       "26    0.0000  6.472700e-03\n",
       "27    0.0001  3.471000e-03\n",
       "28    0.0002  5.401900e-03\n",
       "29    0.0003  3.827800e-03\n",
       "30    0.0004  2.488400e-03\n",
       "...      ...           ...\n",
       "1247  0.1221  3.307100e-06\n",
       "1248  0.1222  4.530400e-07\n",
       "1249  0.1223  1.195300e-06\n",
       "1250  0.1224 -2.567100e-06\n",
       "1251  0.1225 -2.673300e-06\n",
       "\n",
       "[1226 rows x 2 columns]"
      ]
     },
     "execution_count": 29,
     "metadata": {},
     "output_type": "execute_result"
    }
   ],
   "source": [
    "data"
   ]
  },
  {
   "cell_type": "code",
   "execution_count": 30,
   "id": "2a0ec2f1",
   "metadata": {},
   "outputs": [
    {
     "data": {
      "image/png": "[encoded data removed]",
      "text/plain": [
       "<Figure size 1440x1440 with 1 Axes>"
      ]
     },
     "metadata": {
      "needs_background": "light"
     },
     "output_type": "display_data"
    }
   ],
   "source": [
    "plt.figure(figsize=(20, 20))\n",
    "plt.plot(data[\"t\"],data[\"v\"])\n",
    "plt.show()"
   ]
  },
  {
   "cell_type": "code",
   "execution_count": null,
   "id": "b16f0463",
   "metadata": {},
   "outputs": [],
   "source": []
  }
 ],
 "metadata": {
  "kernelspec": {
   "display_name": "Python 3",
   "language": "python",
   "name": "python3"
  },
  "language_info": {
   "codemirror_mode": {
    "name": "ipython",
    "version": 3
   },
   "file_extension": ".py",
   "mimetype": "text/x-python",
   "name": "python",
   "nbconvert_exporter": "python",
   "pygments_lexer": "ipython3",
   "version": "3.9.12"
  }
 },
 "nbformat": 4,
 "nbformat_minor": 5
}
